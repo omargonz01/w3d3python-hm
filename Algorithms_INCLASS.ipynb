{
 "cells": [
  {
   "cell_type": "markdown",
   "metadata": {},
   "source": [
    "# Algorithms & Binary Search"
   ]
  },
  {
   "cell_type": "markdown",
   "metadata": {},
   "source": [
    "## Tasks Today:\n",
    " \n",
    "1) <b>In-Place Algorithms</b> <br>\n",
    " &nbsp;&nbsp;&nbsp;&nbsp; a) Syntax <br>\n",
    " &nbsp;&nbsp;&nbsp;&nbsp; a) Out of Place Algorithm <br>\n",
    " &nbsp;&nbsp;&nbsp;&nbsp; b) In-Class Exercise #1 <br>\n",
    "2) <b>Two Pointers</b> <br>\n",
    "3) <b>Linked Lists</b> <br>\n",
    "4) <b>Merge Sort</b> <br>\n",
    " &nbsp;&nbsp;&nbsp;&nbsp; a) Video on Algorithms <br>\n",
    " &nbsp;&nbsp;&nbsp;&nbsp; b) How it Works <br>\n",
    "5) <b>Exercises</b> <br>\n",
    " &nbsp;&nbsp;&nbsp;&nbsp; a) Exercise #1 - Reverse a List in Place Using an In-Place Algorithm <br>\n",
    " &nbsp;&nbsp;&nbsp;&nbsp; b) Exercise #2 - Find Distinct Words <br>\n",
    " &nbsp;&nbsp;&nbsp;&nbsp; c) Exercise #3 - Write a program to implement a Linear Search Algorithm. <br>"
   ]
  },
  {
   "cell_type": "markdown",
   "metadata": {},
   "source": [
    "## In-Place Algorithms"
   ]
  },
  {
   "cell_type": "markdown",
   "metadata": {},
   "source": [
    "#### Syntax"
   ]
  },
  {
   "cell_type": "code",
   "execution_count": 1,
   "metadata": {},
   "outputs": [
    {
     "name": "stdout",
     "output_type": "stream",
     "text": [
      "2525675105856\n",
      "[3, 2, 1]\n",
      "2525675105856\n"
     ]
    }
   ],
   "source": [
    "def swap(alist, x, y, z):\n",
    "    alist[x], alist[y], alist[z] = alist[z], alist[y], alist[x]\n",
    "\n",
    "this_list = [1, 2, 3]\n",
    "\n",
    "print(id(this_list))\n",
    "swap(this_list, 0, 1, 2)\n",
    "\n",
    "print(this_list)\n",
    "print(id(this_list))"
   ]
  },
  {
   "cell_type": "markdown",
   "metadata": {},
   "source": [
    "#### Out of Place Algorithm"
   ]
  },
  {
   "cell_type": "code",
   "execution_count": 7,
   "metadata": {},
   "outputs": [
    {
     "name": "stdout",
     "output_type": "stream",
     "text": [
      "2525680784576\n",
      "[3, 2, 1]\n",
      "2525680796096\n"
     ]
    }
   ],
   "source": [
    "def out_swap(alist):\n",
    "    output = []\n",
    "    for number in alist[::-1]:\n",
    "        output.append(number)\n",
    "        \n",
    "    return output\n",
    "\n",
    "this_list = [1, 2, 3]\n",
    "\n",
    "print(id(this_list))\n",
    "this_list = out_swap(this_list)\n",
    "\n",
    "\n",
    "print(this_list)\n",
    "print(id(this_list))\n"
   ]
  },
  {
   "cell_type": "markdown",
   "metadata": {},
   "source": [
    "#### In-Class Exercise #1 <br>\n",
    "<p>Write a function that takes in four arguments (list, index1, index2, index3), and swaps those three positions in the list passed in.</p>"
   ]
  },
  {
   "cell_type": "code",
   "execution_count": 13,
   "metadata": {},
   "outputs": [
    {
     "name": "stdout",
     "output_type": "stream",
     "text": [
      "[3, 4, 10, 8, 4, 2, 6]\n"
     ]
    }
   ],
   "source": [
    "l_1 = [10, 4, 3, 8, 4, 2, 6]\n",
    "#in place because we are modifying the original list\n",
    "def swap(alist, x, y, z):\n",
    "    alist[x], alist[y], alist[z] = alist[z], alist[y], alist[x]\n",
    "\n",
    "this_list = [1, 2, 3]\n",
    "\n",
    "\n",
    "swap(l_1, 0, 1, 2)\n",
    "print(l_1)\n"
   ]
  },
  {
   "cell_type": "markdown",
   "metadata": {},
   "source": [
    "## Two Pointers"
   ]
  },
  {
   "cell_type": "markdown",
   "metadata": {},
   "source": [
    "#### Syntax"
   ]
  },
  {
   "cell_type": "code",
   "execution_count": 33,
   "metadata": {},
   "outputs": [
    {
     "name": "stdout",
     "output_type": "stream",
     "text": [
      "None\n",
      "[(10, 1), (9, 2), (8, 3), (7, 4), (6, 5), (6, 5), (7, 4), (8, 3), (9, 2), (10, 1)]\n"
     ]
    }
   ],
   "source": [
    "this_list = [1 , 2, 3, 4, 5, 6, 7, 8, 9, 10]\n",
    "\n",
    "def twopointerswap(alist):\n",
    "    left = 0\n",
    "    right = len(alist) - 1\n",
    "    while left <= right:\n",
    "        alist[left] = alist[right] = alist[right], alist[left]\n",
    "        left += 1\n",
    "        right -= 1\n",
    "\n",
    "print(twopointerswap(this_list))\n",
    "print(this_list)\n"
   ]
  },
  {
   "cell_type": "markdown",
   "metadata": {},
   "source": [
    "#### Video of Algorithms <br>\n",
    "<p>Watch the video about algorithms.</p>\n",
    "\n",
    "https://www.youtube.com/watch?v=Q9HjeFD62Uk\n",
    "\n",
    "https://www.youtube.com/watch?v=kPRA0W1kECg\n",
    "\n",
    "https://www.youtube.com/watch?v=ZZuD6iUe3Pc"
   ]
  },
  {
   "cell_type": "markdown",
   "metadata": {},
   "source": [
    "# Sorting Algorithms"
   ]
  },
  {
   "cell_type": "markdown",
   "metadata": {},
   "source": [
    "#### Bubble Sort\n",
    "\n",
    "Worst Case: O(n^2) Time - O(1) Space"
   ]
  },
  {
   "cell_type": "code",
   "execution_count": 18,
   "metadata": {},
   "outputs": [
    {
     "name": "stdout",
     "output_type": "stream",
     "text": [
      "1\n",
      "[8, 4, 6, 2, 5, 9, 2]\n",
      "[4, 8, 6, 2, 5, 9, 2]\n",
      "[4, 6, 8, 2, 5, 9, 2]\n",
      "[4, 6, 2, 8, 5, 9, 2]\n",
      "[4, 6, 2, 5, 8, 9, 2]\n",
      "[4, 6, 2, 5, 8, 9, 2]\n",
      "[4, 6, 2, 5, 8, 2, 9]\n",
      "2\n",
      "[4, 6, 2, 5, 8, 2, 9]\n",
      "[4, 6, 2, 5, 8, 2, 9]\n",
      "[4, 2, 6, 5, 8, 2, 9]\n",
      "[4, 2, 5, 6, 8, 2, 9]\n",
      "[4, 2, 5, 6, 8, 2, 9]\n",
      "[4, 2, 5, 6, 2, 8, 9]\n",
      "[4, 2, 5, 6, 2, 8, 9]\n",
      "3\n",
      "[4, 2, 5, 6, 2, 8, 9]\n",
      "[2, 4, 5, 6, 2, 8, 9]\n",
      "[2, 4, 5, 6, 2, 8, 9]\n",
      "[2, 4, 5, 6, 2, 8, 9]\n",
      "[2, 4, 5, 2, 6, 8, 9]\n",
      "[2, 4, 5, 2, 6, 8, 9]\n",
      "[2, 4, 5, 2, 6, 8, 9]\n",
      "4\n",
      "[2, 4, 5, 2, 6, 8, 9]\n",
      "[2, 4, 5, 2, 6, 8, 9]\n",
      "[2, 4, 5, 2, 6, 8, 9]\n",
      "[2, 4, 2, 5, 6, 8, 9]\n",
      "[2, 4, 2, 5, 6, 8, 9]\n",
      "[2, 4, 2, 5, 6, 8, 9]\n",
      "[2, 4, 2, 5, 6, 8, 9]\n",
      "5\n",
      "[2, 4, 2, 5, 6, 8, 9]\n",
      "[2, 4, 2, 5, 6, 8, 9]\n",
      "[2, 2, 4, 5, 6, 8, 9]\n",
      "[2, 2, 4, 5, 6, 8, 9]\n",
      "[2, 2, 4, 5, 6, 8, 9]\n",
      "[2, 2, 4, 5, 6, 8, 9]\n",
      "[2, 2, 4, 5, 6, 8, 9]\n",
      "6\n",
      "[2, 2, 4, 5, 6, 8, 9]\n",
      "[2, 2, 4, 5, 6, 8, 9]\n",
      "[2, 2, 4, 5, 6, 8, 9]\n",
      "[2, 2, 4, 5, 6, 8, 9]\n",
      "[2, 2, 4, 5, 6, 8, 9]\n",
      "[2, 2, 4, 5, 6, 8, 9]\n",
      "[2, 2, 4, 5, 6, 8, 9]\n",
      "[2, 2, 4, 5, 6, 8, 9]\n"
     ]
    }
   ],
   "source": [
    "alist = [8,4,6,2,5,9,2]\n",
    "\n",
    "def swap(alist, x, y):\n",
    "    alist[x], alist[y] = alist[y], alist[x]\n",
    "\n",
    "def bubble(alist):\n",
    "    sorted = False\n",
    "\n",
    "    p = 0\n",
    "    while not sorted:\n",
    "        p+= 1\n",
    "        print(p)\n",
    "        sorted = True\n",
    "        for index in range(len(alist) - 1):\n",
    "            print(alist)\n",
    "            if alist[index] > alist[index + 1]:\n",
    "                swap(alist, index, index + 1)\n",
    "                sorted = False\n",
    "        print(alist)\n",
    "\n",
    "    # return alist\n",
    "bubble(alist)\n",
    "\n",
    "print(alist)"
   ]
  },
  {
   "cell_type": "markdown",
   "metadata": {},
   "source": [
    "##### Insertion Sort\n",
    "\n",
    "Worst Case: O(n^2) time - O(1)space"
   ]
  },
  {
   "cell_type": "code",
   "execution_count": 21,
   "metadata": {},
   "outputs": [
    {
     "name": "stdout",
     "output_type": "stream",
     "text": [
      "[8]\n",
      "4\n",
      "[8, 4]\n",
      "[4, 8]\n",
      "6\n",
      "[4, 8, 6]\n",
      "[4, 6, 8]\n",
      "2\n",
      "[4, 6, 8, 2]\n",
      "[4, 6, 2, 8]\n",
      "[4, 2, 6, 8]\n",
      "[2, 4, 6, 8]\n",
      "5\n",
      "[2, 4, 6, 8, 5]\n",
      "[2, 4, 6, 5, 8]\n",
      "[2, 4, 5, 6, 8]\n",
      "9\n",
      "[2, 4, 5, 6, 8, 9]\n",
      "2\n",
      "[2, 4, 5, 6, 8, 9, 2]\n",
      "[2, 4, 5, 6, 8, 2, 9]\n",
      "[2, 4, 5, 6, 2, 8, 9]\n",
      "[2, 4, 5, 2, 6, 8, 9]\n",
      "[2, 4, 2, 5, 6, 8, 9]\n",
      "None\n",
      "[2, 2, 4, 5, 6, 8, 9]\n"
     ]
    }
   ],
   "source": [
    "alist = [8,4,6,2,5,9,2]\n",
    "\n",
    "def swap(alist, x, y):\n",
    "    alist[x], alist[y] = alist[y], alist[x]\n",
    "\n",
    "def insertion(alist):\n",
    "    for i in range(1, len(alist)):\n",
    "        p = i\n",
    "        print(alist[:i])\n",
    "        print(alist[i])\n",
    "        while i > 0 and alist[i] < alist[i-1]:\n",
    "            print(alist[:p+1])\n",
    "            swap(alist, i, i-1)\n",
    "            i -= 1\n",
    "\n",
    "print(insertion(alist))\n",
    "print(alist)\n"
   ]
  },
  {
   "cell_type": "markdown",
   "metadata": {},
   "source": [
    "## Merge Sort"
   ]
  },
  {
   "cell_type": "markdown",
   "metadata": {},
   "source": [
    "#### How it Works"
   ]
  },
  {
   "cell_type": "code",
   "execution_count": 35,
   "metadata": {},
   "outputs": [
    {
     "name": "stdout",
     "output_type": "stream",
     "text": [
      "SPLITTING: [8, 4, 6, 2, 5, 9, 2]\n",
      "Left half: [8, 4, 6], right half: [2, 5, 9, 2]\n",
      "SPLITTING: [8, 4, 6]\n",
      "Left half: [8], right half: [4, 6]\n",
      "SPLITTING: [4, 6]\n",
      "Left half: [4], right half: [6]\n",
      "merging left: [4], right: [6]\n",
      "Merged [4, 6]\n",
      "merging left: [8], right: [4, 6]\n",
      "Merged [4, 6, 8]\n",
      "SPLITTING: [2, 5, 9, 2]\n",
      "Left half: [2, 5], right half: [9, 2]\n",
      "SPLITTING: [2, 5]\n",
      "Left half: [2], right half: [5]\n",
      "merging left: [2], right: [5]\n",
      "Merged [2, 5]\n",
      "SPLITTING: [9, 2]\n",
      "Left half: [9], right half: [2]\n",
      "merging left: [9], right: [2]\n",
      "Merged [2, 9]\n",
      "merging left: [2, 5], right: [2, 9]\n",
      "Merged [2, 2, 5, 9]\n",
      "merging left: [4, 6, 8], right: [2, 2, 5, 9]\n",
      "Merged [2, 2, 4, 5, 6, 8, 9]\n",
      "[2, 2, 4, 5, 6, 8, 9]\n"
     ]
    }
   ],
   "source": [
    "alist = [8,4,6,2,5,9,2] # input\n",
    "\n",
    "# step 1: split list into sublists\n",
    "\n",
    "#----------------------------------\n",
    "\n",
    "def mergeSort(alist):\n",
    "\n",
    "    if len(alist) > 1:\n",
    "        middle = len(alist) // 2\n",
    "        left_half = alist[:middle] \n",
    "        right_half = alist[middle:]\n",
    "        print(f'SPLITTING: {alist}')\n",
    "        print(f'Left half: {left_half}, right half: {right_half}')\n",
    "\n",
    "\n",
    "        mergeSort(left_half)\n",
    "        mergeSort(right_half)\n",
    "# ------Step 2: Compare leftHalf to the rightHalf and merge them. ---------------       \n",
    "        print(f'merging left: {left_half}, right: {right_half}')\n",
    "        # index\n",
    "        i = 0 # pointer for the left half\n",
    "        j = 0 # pointer for the right half\n",
    "        k = 0 # pointer for main list we mere into \n",
    "\n",
    "        # compare the left and right half until one of them is empty \n",
    "\n",
    "        while i < len(left_half) and j < len(right_half):\n",
    "            if left_half[i] < right_half[j]:\n",
    "                alist[k] = left_half[i]\n",
    "                i += 1 \n",
    "            else:\n",
    "                alist[k] = right_half[j]\n",
    "                j += 1\n",
    "            k += 1\n",
    "#-------Step 3: Account for the numbers that are still remaining in either the left or the right half of the list. --------------\n",
    "    #once list has been emptied\n",
    "    #fill in main list with remaining list\n",
    "\n",
    "        while i < len(left_half):\n",
    "            alist[k] = left_half[i]\n",
    "            i += 1\n",
    "            k += 1\n",
    "        \n",
    "        while j < len(right_half):\n",
    "            alist[k] = right_half[j]\n",
    "            j += 1\n",
    "            k += 1\n",
    "        print(f'Merged {alist}')\n",
    "\n",
    "        return alist\n",
    "\n",
    "print(mergeSort(alist))\n"
   ]
  },
  {
   "cell_type": "markdown",
   "metadata": {},
   "source": [
    "# Binary Search\n",
    "\n",
    "The Binary Search algorithm works by finding the number in the middle of a given array and comparing it to the target. Given that the array is sorted\n",
    "\n",
    "* The worst case run time for this algorithm is `O(log(n))`"
   ]
  },
  {
   "cell_type": "code",
   "execution_count": 25,
   "metadata": {},
   "outputs": [
    {
     "data": {
      "text/plain": [
       "'Target is not in the list'"
      ]
     },
     "execution_count": 25,
     "metadata": {},
     "output_type": "execute_result"
    }
   ],
   "source": [
    "# only works on a sorted list\n",
    "\n",
    "def binarySearch(alist, target):\n",
    "    left = 0\n",
    "    right = len(alist) - 1\n",
    "    while left <= right:\n",
    "        middle = (left + right) // 2\n",
    "        potential = alist[middle]\n",
    "        if target == potential:\n",
    "            return f'WINNER WINNER CHICKEN DINNER FOR {target} at the {middle} index'\n",
    "        elif target < potential:\n",
    "            right = middle + 1\n",
    "        elif target > potential:\n",
    "            left = middle + 1\n",
    "    return f'Target is not in the list'\n",
    "\n",
    "binarySearch([1, 5, 7, 23,29, 3, 8, 58], 400)"
   ]
  },
  {
   "cell_type": "markdown",
   "metadata": {},
   "source": [
    "# Exercises"
   ]
  },
  {
   "cell_type": "markdown",
   "metadata": {},
   "source": [
    "### Exercise #1 <br>\n",
    "<p>Reverse the list below in-place using an in-place algorithm.<br>For extra credit: Reverse the strings at the same time.</p>"
   ]
  },
  {
   "cell_type": "code",
   "execution_count": 36,
   "metadata": {},
   "outputs": [
    {
     "name": "stdout",
     "output_type": "stream",
     "text": [
      "[('.', 'this'), ('sentence', 'is'), ('a', 'a'), ('sentence', 'is'), ('.', 'this')]\n"
     ]
    }
   ],
   "source": [
    "                # this_list = [1 , 2, 3, 4, 5, 6, 7, 8, 9, 10]\n",
    "\n",
    "                # def twopointerswap(alist):\n",
    "                # left = 0\n",
    "                # right = len(alist) - 1\n",
    "                # while left <= right:\n",
    "                #         alist[left] = alist[right] = alist[right], alist[left]\n",
    "                #         left += 1\n",
    "                #         right -= 1\n",
    "\n",
    "                # print(twopointerswap(this_list))\n",
    "                # print(this_list)\n",
    "\n",
    "# modify existing list (in-place)\n",
    "# two pinters one for left one for right\n",
    "# left is first element 0\n",
    "# right is last element len(alist)-1\n",
    "# swap left and right\n",
    "# then move forward one element starting from left\n",
    "# then starting from right go one step back\n",
    "# repeat until they meet \n",
    "\n",
    "\n",
    "words = ['this' , 'is', 'a', 'sentence', '.']\n",
    "\n",
    "def reverse_list(alist):\n",
    "    left = 0\n",
    "    right = len(alist) - 1\n",
    "    while left <= right:\n",
    "        alist[left] = alist[right] = alist[right], alist[left]\n",
    "        left += 1\n",
    "        right -= 1\n",
    "\n",
    "reverse_list(words)\n",
    "\n",
    "print(words)\n",
    "    \n",
    "\n"
   ]
  },
  {
   "cell_type": "markdown",
   "metadata": {},
   "source": [
    "### Exercise #2 <br>\n",
    "<p>Create a function that counts how many distinct words are in the string below, then outputs a dictionary with the words as the key and the value as the amount of times that word appears in the string.<br>Should output:<br>{'a': 5,<br>\n",
    " 'abstract': 1,<br>\n",
    " 'an': 3,<br>\n",
    " 'array': 2, ... etc...</p>"
   ]
  },
  {
   "cell_type": "code",
   "execution_count": 39,
   "metadata": {},
   "outputs": [
    {
     "name": "stdout",
     "output_type": "stream",
     "text": [
      "{'in': 1, 'computing,': 1, 'a': 5, 'hash': 4, 'table': 2, 'map': 2, 'is': 1, 'data': 2, 'structure': 2, 'which': 2, 'implements': 1, 'an': 3, 'associative': 1, 'array': 2, 'abstract': 1, 'type,': 1, 'that': 1, 'can': 2, 'keys': 1, 'to': 2, 'values.': 1, 'uses': 1, 'function': 1, 'compute': 1, 'index': 1, 'into': 1, 'of': 1, 'buckets': 1, 'or': 1, 'slots': 1, 'from': 1, 'the': 1, 'desired': 1, 'value': 1, 'be': 1, 'found': 1}\n"
     ]
    }
   ],
   "source": [
    "# how to get rid of punctuation after you split, \n",
    "# punctuation and casing should not interfere with counts - can be accomplised by makind all lowwer? .lower()?\n",
    "\n",
    "#split text into words\n",
    "#create dictionary to store how often words occur\n",
    "#find a way to count the number of times each word occurs\n",
    "#return dictionary of the number of times each word occurs and the word itself\n",
    "\n",
    "a_text = 'In computing, a hash table hash map is a data structure which implements an associative array abstract data type, a structure that can map keys to values. A hash table uses a hash function to compute an index into an array of buckets or slots from which the desired value can be found'\n",
    "\n",
    "# def counts_words():\n",
    "#     words = a_text.split()\n",
    "#     wordfrequency = {}\n",
    "#     for word in words:\n",
    "#         word = word.lower()\n",
    "\n",
    "#         counts_words[word] = wordfrequency.get(word, 0) + 1\n",
    "\n",
    "#     return wordfrequency\n",
    "\n",
    "# output = counts_words(a_text)\n",
    "# print(output)\n",
    "\n",
    "# ^^^^\n",
    "# TypeError                                 Traceback (most recent call last)\n",
    "# Cell In[37], line 21\n",
    "#      17         counts_words[word] = wordfrequency.get(word, 0) + 1\n",
    "#      19     return wordfrequency\n",
    "# ---> 21 output = counts_words(a_text)\n",
    "#      22 print(output)\n",
    "\n",
    "# TypeError: counts_words() takes 0 positional arguments but 1 was given\n",
    "\n",
    "def counts_words(list):\n",
    "\n",
    "    words = list.split()\n",
    "\n",
    "    wordfrequency = {}\n",
    "\n",
    "    for word in words:\n",
    "\n",
    "        word = word.lower() # so case insensitive\n",
    "\n",
    "        wordfrequency[word] = wordfrequency.get(word, 0) + 1\n",
    "\n",
    "    return wordfrequency\n",
    "\n",
    "output = counts_words(a_text)\n",
    "print(output)\n"
   ]
  },
  {
   "cell_type": "markdown",
   "metadata": {},
   "source": [
    "## Exercise #3\n",
    "\n",
    "Write a program to implement a Linear Search Algorithm. Also in a comment, write the Time Complexity of the following algorithm.\n",
    "\n",
    "#### Hint: Linear Searching will require searching a list for a given number. "
   ]
  },
  {
   "cell_type": "code",
   "execution_count": 51,
   "metadata": {},
   "outputs": [
    {
     "name": "stdout",
     "output_type": "stream",
     "text": [
      "6\n"
     ]
    }
   ],
   "source": [
    "# count brute force .. loop through each character in the string?\n",
    "# should take in a list a target and return position of the target!\n",
    "# we have done this before but did not know name..?\n",
    "\n",
    "# def numnumnum(list, target):\n",
    "\n",
    "#     count = 0 #does this not make it start at 0? --> 0\n",
    "\n",
    "#     for i in range(len(list)):\n",
    "#         number = list[i]\n",
    "#         if number == target:\n",
    "#             i = True\n",
    "#             break\n",
    "#     return count\n",
    "\n",
    "# my_list = [1, 2, 3, 4, 5, 6,9]\n",
    "\n",
    "# num_i_want = 6\n",
    "\n",
    "# print(numnumnum(my_list, num_i_want))\n",
    "# ^^ did not work\n",
    "\n",
    "# def findnumnumnum(list, target):\n",
    "#     # count = list[0] - does not work either --> 1\n",
    "\n",
    "#     for i in range(len(list)):\n",
    "#         number = list[i]\n",
    "#         if number == target:\n",
    "#             count is i\n",
    "#             break\n",
    "#     return count\n",
    "\n",
    "# my_list = [1, 2, 3, 4, 5, 6,9]\n",
    "\n",
    "# num_i_want = 6\n",
    "\n",
    "# print(findnumnumnum(my_list, num_i_want))\n",
    "# ^^ did not work\n",
    "\n",
    "def findmynum(list, target):\n",
    "    count = 0 \n",
    "\n",
    "    while count < len(list):\n",
    "        number = list[count]\n",
    "        if number == target:\n",
    "            break\n",
    "        count += 1\n",
    "    \n",
    "    return count + 1 \n",
    "\n",
    "my_list = [1, 2, 3, 4, 5, 6,9]\n",
    "\n",
    "num_i_want = 6\n",
    "\n",
    "print(findmynum(my_list, num_i_want))\n",
    "\n",
    "\n",
    "# needed to add + 1 to the count at the end to make the output return the target i wanted original line of code giving me trouble was i had it as\n",
    "\n",
    "# while count < len(list):\n",
    "    #     number = list[count]\n",
    "    #     if number == target:\n",
    "    #         break\n",
    "    #     count += 1\n",
    "    \n",
    "    # return count\n",
    "\n",
    "# and all I had to do was add + 1 to the count at the end to make the output return the desired target. not entirely sure why tho but it works."
   ]
  }
 ],
 "metadata": {
  "kernelspec": {
   "display_name": "Python 3.10.8 64-bit (microsoft store)",
   "language": "python",
   "name": "python3"
  },
  "language_info": {
   "codemirror_mode": {
    "name": "ipython",
    "version": 3
   },
   "file_extension": ".py",
   "mimetype": "text/x-python",
   "name": "python",
   "nbconvert_exporter": "python",
   "pygments_lexer": "ipython3",
   "version": "3.11.4"
  },
  "vscode": {
   "interpreter": {
    "hash": "aa82987a71ca0339a52998cd22613b0c002bda8349fa32a0cb67ceec3936a2bf"
   }
  }
 },
 "nbformat": 4,
 "nbformat_minor": 2
}
